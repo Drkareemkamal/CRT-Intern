{
  "nbformat": 4,
  "nbformat_minor": 0,
  "metadata": {
    "colab": {
      "provenance": [],
      "gpuType": "T4",
      "authorship_tag": "ABX9TyP8wd0xIv4ljFYZsW59nivj",
      "include_colab_link": true
    },
    "kernelspec": {
      "name": "python3",
      "display_name": "Python 3"
    },
    "language_info": {
      "name": "python"
    },
    "accelerator": "GPU"
  },
  "cells": [
    {
      "cell_type": "markdown",
      "metadata": {
        "id": "view-in-github",
        "colab_type": "text"
      },
      "source": [
        "<a href=\"https://colab.research.google.com/github/Drkareemkamal/CRT-Intern/blob/main/Digits_recognition.ipynb\" target=\"_parent\"><img src=\"https://colab.research.google.com/assets/colab-badge.svg\" alt=\"Open In Colab\"/></a>"
      ]
    },
    {
      "cell_type": "markdown",
      "source": [
        "## Import liberaries"
      ],
      "metadata": {
        "id": "63bC636w21YU"
      }
    },
    {
      "cell_type": "code",
      "source": [
        "import tensorflow as tf\n",
        "from tensorflow.keras.datasets import mnist\n",
        "import matplotlib.pyplot as plt\n",
        "import random\n",
        "import pandas as pd\n"
      ],
      "metadata": {
        "id": "IG35BNB7PX78"
      },
      "execution_count": 1,
      "outputs": []
    },
    {
      "cell_type": "markdown",
      "source": [
        "### load our dataset"
      ],
      "metadata": {
        "id": "ZoxBoIVP27Gc"
      }
    },
    {
      "cell_type": "code",
      "execution_count": 2,
      "metadata": {
        "id": "gAGSuNEGOjMb",
        "colab": {
          "base_uri": "https://localhost:8080/"
        },
        "outputId": "ee96e1ac-a893-4071-9773-0333ba7af7f4"
      },
      "outputs": [
        {
          "output_type": "stream",
          "name": "stdout",
          "text": [
            "Downloading data from https://storage.googleapis.com/tensorflow/tf-keras-datasets/mnist.npz\n",
            "11490434/11490434 [==============================] - 0s 0us/step\n"
          ]
        }
      ],
      "source": [
        "(train_img,train_labels),(test_img,test_labels) = mnist.load_data()"
      ]
    },
    {
      "cell_type": "markdown",
      "source": [
        "### check image shape"
      ],
      "metadata": {
        "id": "Q2o-gVVT2_De"
      }
    },
    {
      "cell_type": "code",
      "source": [
        "\n",
        "train_img.shape , train_labels.shape"
      ],
      "metadata": {
        "colab": {
          "base_uri": "https://localhost:8080/"
        },
        "id": "hzoC9qy_O6jR",
        "outputId": "440a501f-24ca-443d-e4b5-1161d9a3a41b"
      },
      "execution_count": 3,
      "outputs": [
        {
          "output_type": "execute_result",
          "data": {
            "text/plain": [
              "((60000, 28, 28), (60000,))"
            ]
          },
          "metadata": {},
          "execution_count": 3
        }
      ]
    },
    {
      "cell_type": "markdown",
      "source": [
        "### check out random 25 images and theri labels"
      ],
      "metadata": {
        "id": "3gamSveh2wWb"
      }
    },
    {
      "cell_type": "code",
      "source": [
        "plt.figure(figsize=(7,7))\n",
        "\n",
        "for i in range(12):\n",
        "  ax= plt.subplot(4,4,i+1)\n",
        "  random_img_index = random.choice(range(len(train_img)))\n",
        "  plt.imshow(train_img[random_img_index])\n",
        "  plt.title(train_labels[random_img_index])\n",
        "  plt.axis(False)\n",
        "  # plt.show();"
      ],
      "metadata": {
        "colab": {
          "base_uri": "https://localhost:8080/",
          "height": 457
        },
        "id": "dquJ9vVxPAnh",
        "outputId": "0ea03329-a153-4c9a-b78b-89616d866b20"
      },
      "execution_count": 6,
      "outputs": [
        {
          "output_type": "display_data",
          "data": {
            "text/plain": [
              "<Figure size 700x700 with 12 Axes>"
            ],
            "image/png": "[encoded data removed]"
          },
          "metadata": {}
        }
      ]
    },
    {
      "cell_type": "code",
      "source": [
        "train_img.min() , train_img.max()"
      ],
      "metadata": {
        "colab": {
          "base_uri": "https://localhost:8080/"
        },
        "id": "-Hpn3TDuP9pD",
        "outputId": "0a193b62-64f3-4e85-f12f-2f229a8d2e0c"
      },
      "execution_count": 8,
      "outputs": [
        {
          "output_type": "execute_result",
          "data": {
            "text/plain": [
              "(0, 255)"
            ]
          },
          "metadata": {},
          "execution_count": 8
        }
      ]
    },
    {
      "cell_type": "markdown",
      "source": [
        "### check image shape"
      ],
      "metadata": {
        "id": "XVS09c263Fj9"
      }
    },
    {
      "cell_type": "code",
      "source": [
        "train_img_norm = train_img/255.\n",
        "test_img_norm = test_img /255."
      ],
      "metadata": {
        "id": "Qhbl7Tv2S4Wc"
      },
      "execution_count": 7,
      "outputs": []
    },
    {
      "cell_type": "markdown",
      "source": [
        "### use  `Sequential API` to train our model in `C.Neural Network`"
      ],
      "metadata": {
        "id": "ySlUc8lW3H60"
      }
    },
    {
      "cell_type": "code",
      "source": [
        "model = tf.keras.Sequential([\n",
        "    tf.keras.layers.Conv2D(filters=64,kernel_size=3,input_shape=(28,28,1),\n",
        "                           activation='relu'),\n",
        "    tf.keras.layers.MaxPool2D(3),\n",
        "    tf.keras.layers.Dropout(0.2),# to prevent overfitting\n",
        "    tf.keras.layers.Conv2D(32,3,activation='relu'),\n",
        "    tf.keras.layers.MaxPool2D(3),\n",
        "    tf.keras.layers.Dropout(0.2),\n",
        "    tf.keras.layers.Flatten(),\n",
        "    tf.keras.layers.Dense(128,activation='relu'),\n",
        "    tf.keras.layers.Dense(10,activation='softmax')\n",
        "])\n",
        "\n",
        "model.compile(loss=tf.keras.losses.SparseCategoricalCrossentropy(),\n",
        "              optimizer=tf.keras.optimizers.Adam(),\n",
        "              metrics=['accuracy'])\n",
        "\n",
        "\n",
        "history = model.fit(train_img_norm,\n",
        "                    train_labels,\n",
        "                    epochs=10,\n",
        "                    validation_data = (test_img_norm,test_labels))"
      ],
      "metadata": {
        "colab": {
          "base_uri": "https://localhost:8080/"
        },
        "id": "BZ9vo7bkUgZK",
        "outputId": "34491aed-2f9a-4a51-f24a-0c31ce436261"
      },
      "execution_count": 9,
      "outputs": [
        {
          "output_type": "stream",
          "name": "stdout",
          "text": [
            "Epoch 1/10\n",
            "1875/1875 [==============================] - 20s 5ms/step - loss: 0.2870 - accuracy: 0.9093 - val_loss: 0.0634 - val_accuracy: 0.9797\n",
            "Epoch 2/10\n",
            "1875/1875 [==============================] - 8s 4ms/step - loss: 0.1013 - accuracy: 0.9682 - val_loss: 0.0544 - val_accuracy: 0.9826\n",
            "Epoch 3/10\n",
            "1875/1875 [==============================] - 8s 4ms/step - loss: 0.0761 - accuracy: 0.9750 - val_loss: 0.0337 - val_accuracy: 0.9888\n",
            "Epoch 4/10\n",
            "1875/1875 [==============================] - 8s 4ms/step - loss: 0.0664 - accuracy: 0.9790 - val_loss: 0.0333 - val_accuracy: 0.9894\n",
            "Epoch 5/10\n",
            "1875/1875 [==============================] - 10s 5ms/step - loss: 0.0585 - accuracy: 0.9810 - val_loss: 0.0294 - val_accuracy: 0.9897\n",
            "Epoch 6/10\n",
            "1875/1875 [==============================] - 9s 5ms/step - loss: 0.0528 - accuracy: 0.9828 - val_loss: 0.0278 - val_accuracy: 0.9906\n",
            "Epoch 7/10\n",
            "1875/1875 [==============================] - 8s 4ms/step - loss: 0.0478 - accuracy: 0.9851 - val_loss: 0.0266 - val_accuracy: 0.9918\n",
            "Epoch 8/10\n",
            "1875/1875 [==============================] - 9s 5ms/step - loss: 0.0443 - accuracy: 0.9855 - val_loss: 0.0265 - val_accuracy: 0.9917\n",
            "Epoch 9/10\n",
            "1875/1875 [==============================] - 9s 5ms/step - loss: 0.0446 - accuracy: 0.9853 - val_loss: 0.0241 - val_accuracy: 0.9919\n",
            "Epoch 10/10\n",
            "1875/1875 [==============================] - 8s 4ms/step - loss: 0.0399 - accuracy: 0.9868 - val_loss: 0.0256 - val_accuracy: 0.9910\n"
          ]
        }
      ]
    },
    {
      "cell_type": "markdown",
      "source": [
        "### Check our `loss curve` on training and validation data"
      ],
      "metadata": {
        "id": "OHKS509d3Wii"
      }
    },
    {
      "cell_type": "code",
      "source": [
        "pd.DataFrame(history.history).plot();"
      ],
      "metadata": {
        "colab": {
          "base_uri": "https://localhost:8080/",
          "height": 430
        },
        "id": "Kk58dmwmWJS3",
        "outputId": "a961ef26-955d-4fd6-b51a-d213ec0ecb67"
      },
      "execution_count": 11,
      "outputs": [
        {
          "output_type": "display_data",
          "data": {
            "text/plain": [
              "<Figure size 640x480 with 1 Axes>"
            ],
            "image/png": "[encoded data removed]"
          },
          "metadata": {}
        }
      ]
    },
    {
      "cell_type": "code",
      "source": [],
      "metadata": {
        "id": "RLotMSRUZrWQ"
      },
      "execution_count": null,
      "outputs": []
    }
  ]
}